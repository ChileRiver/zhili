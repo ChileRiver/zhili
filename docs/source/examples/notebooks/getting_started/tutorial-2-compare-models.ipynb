{
  "cells": [
    {
      "cell_type": "markdown",
      "metadata": {
        "id": "view-in-github",
        "colab_type": "text"
      },
      "source": [
        "<a href=\"https://colab.research.google.com/github/ChileRiver/zhili/blob/master/docs/source/examples/notebooks/getting_started/tutorial-2-compare-models.ipynb\" target=\"_parent\"><img src=\"https://colab.research.google.com/assets/colab-badge.svg\" alt=\"Open In Colab\"/></a>"
      ]
    },
    {
      "cell_type": "markdown",
      "metadata": {
        "id": "zslcdH5JjhoY"
      },
      "source": [
        "# Tutorial 2 - Compare models"
      ]
    },
    {
      "cell_type": "markdown",
      "metadata": {
        "id": "fPJAtXsyjhoa"
      },
      "source": [
        "In [Tutorial 1](./tutorial-1-how-to-run-a-model.ipynb), we saw how to run a PyBaMM simulation of the DFN model. However, PyBaMM includes other standard electrochemical models such as the Single Particle Model (SPM) and the Single Particle Model with electrolyte (SPMe). In this tutorial, we will see how to simulate and compare these three models.\n",
        "\n",
        "Again, the first step is to import PyBaMM into the notebook:"
      ]
    },
    {
      "cell_type": "code",
      "execution_count": 1,
      "metadata": {
        "colab": {
          "base_uri": "https://localhost:8080/"
        },
        "id": "b_bBgMnmjhob",
        "outputId": "8a4fc0f6-512d-4e3e-d02d-1eacaf9780ba"
      },
      "outputs": [
        {
          "output_type": "stream",
          "name": "stdout",
          "text": [
            "\u001b[2K   \u001b[90m━━━━━━━━━━━━━━━━━━━━━━━━━━━━━━━━━━━━━━━━\u001b[0m \u001b[32m44.9/44.9 kB\u001b[0m \u001b[31m1.7 MB/s\u001b[0m eta \u001b[36m0:00:00\u001b[0m\n",
            "\u001b[2K   \u001b[90m━━━━━━━━━━━━━━━━━━━━━━━━━━━━━━━━━━━━━━━━\u001b[0m \u001b[32m73.4/73.4 MB\u001b[0m \u001b[31m10.1 MB/s\u001b[0m eta \u001b[36m0:00:00\u001b[0m\n",
            "\u001b[2K   \u001b[90m━━━━━━━━━━━━━━━━━━━━━━━━━━━━━━━━━━━━━━━━\u001b[0m \u001b[32m561.4/561.4 kB\u001b[0m \u001b[31m17.3 MB/s\u001b[0m eta \u001b[36m0:00:00\u001b[0m\n",
            "\u001b[2K   \u001b[90m━━━━━━━━━━━━━━━━━━━━━━━━━━━━━━━━━━━━━━━━\u001b[0m \u001b[32m76.6/76.6 kB\u001b[0m \u001b[31m4.2 MB/s\u001b[0m eta \u001b[36m0:00:00\u001b[0m\n",
            "\u001b[2K   \u001b[90m━━━━━━━━━━━━━━━━━━━━━━━━━━━━━━━━━━━━━━━━\u001b[0m \u001b[32m766.0/766.0 kB\u001b[0m \u001b[31m27.1 MB/s\u001b[0m eta \u001b[36m0:00:00\u001b[0m\n",
            "\u001b[2K   \u001b[90m━━━━━━━━━━━━━━━━━━━━━━━━━━━━━━━━━━━━━━━━\u001b[0m \u001b[32m15.9/15.9 MB\u001b[0m \u001b[31m32.9 MB/s\u001b[0m eta \u001b[36m0:00:00\u001b[0m\n",
            "\u001b[?25hPyBaMM can collect usage data and send it to the PyBaMM team to help us improve the software.\n",
            "We do not collect any sensitive information such as models, parameters, or simulation results - only information on which parts of the code are being used and how frequently.\n",
            "This is entirely optional and does not impact the functionality of PyBaMM.\n",
            "For more information, see https://docs.pybamm.org/en/latest/source/user_guide/index.html#telemetry\n",
            "\n",
            "Timeout reached. Defaulting to not enabling telemetry.\n"
          ]
        }
      ],
      "source": [
        "%pip install \"pybamm[plot,cite]\" -q    # install PyBaMM if it is not installed\n",
        "import pybamm"
      ]
    },
    {
      "cell_type": "markdown",
      "metadata": {
        "id": "vbaWiharjhoc"
      },
      "source": [
        "As we want to compare various models, we now create a list of all the models we wish to solve:"
      ]
    },
    {
      "cell_type": "code",
      "execution_count": null,
      "metadata": {
        "id": "9iNkPkZpjhod"
      },
      "outputs": [],
      "source": [
        "models = [\n",
        "    pybamm.lithium_ion.SPM(),\n",
        "    pybamm.lithium_ion.SPMe(),\n",
        "    pybamm.lithium_ion.DFN(),\n",
        "]"
      ]
    },
    {
      "cell_type": "markdown",
      "metadata": {
        "id": "RWkdMti5jhod"
      },
      "source": [
        "We will loop over the list, creating and solving simulations as we go (in the same way we learned in [Tutorial 1](./tutorial-1-how-to-run-a-model.ipynb)), and storing the solved simulations in the list `sims`:"
      ]
    },
    {
      "cell_type": "code",
      "execution_count": null,
      "metadata": {
        "id": "AFFDiRoujhod"
      },
      "outputs": [],
      "source": [
        "sims = []\n",
        "for model in models:\n",
        "    sim = pybamm.Simulation(model)\n",
        "    sim.solve([0, 3600])\n",
        "    sims.append(sim)"
      ]
    },
    {
      "cell_type": "markdown",
      "metadata": {
        "id": "AJPwdeA7jhod"
      },
      "source": [
        "We can now pass our list of simulations to the `dynamic_plot` method, which has similar syntax to the `sim.plot()` method we used earlier and will plot the different solutions in the same figure:"
      ]
    },
    {
      "cell_type": "code",
      "execution_count": null,
      "metadata": {
        "colab": {
          "referenced_widgets": [
            "59b0f0a695d34ce8a5360af8d1c45e94"
          ]
        },
        "id": "awUkU4V7jhod",
        "outputId": "545dfafe-4a50-461f-ad97-7fc83e2b71e8"
      },
      "outputs": [
        {
          "data": {
            "application/vnd.jupyter.widget-view+json": {
              "model_id": "59b0f0a695d34ce8a5360af8d1c45e94",
              "version_major": 2,
              "version_minor": 0
            },
            "text/plain": [
              "interactive(children=(FloatSlider(value=0.0, description='t', max=3600.0, step=36.0), Output()), _dom_classes=…"
            ]
          },
          "metadata": {},
          "output_type": "display_data"
        },
        {
          "data": {
            "text/plain": [
              "<pybamm.plotting.quick_plot.QuickPlot at 0x7faf48ed9490>"
            ]
          },
          "execution_count": 4,
          "metadata": {},
          "output_type": "execute_result"
        }
      ],
      "source": [
        "pybamm.dynamic_plot(sims)"
      ]
    },
    {
      "cell_type": "markdown",
      "metadata": {
        "id": "4i3rG1_rjhoe"
      },
      "source": [
        "In this tutorial we have seen how easy it is to run and compare different electrochemical models. In [Tutorial 3](./tutorial-3-basic-plotting.ipynb) we show how to create different plots using PyBaMM's built-in plotting capability."
      ]
    },
    {
      "cell_type": "markdown",
      "metadata": {
        "id": "m14L53Rpjhoe"
      },
      "source": [
        "## References\n",
        "\n",
        "The relevant papers for this notebook are:"
      ]
    },
    {
      "cell_type": "code",
      "execution_count": null,
      "metadata": {
        "scrolled": true,
        "id": "xWbVrxlpjhoe",
        "outputId": "11a43e34-56aa-4634-baf2-71debc6e83f8"
      },
      "outputs": [
        {
          "name": "stdout",
          "output_type": "stream",
          "text": [
            "[1] Joel A. E. Andersson, Joris Gillis, Greg Horn, James B. Rawlings, and Moritz Diehl. CasADi – A software framework for nonlinear optimization and optimal control. Mathematical Programming Computation, 11(1):1–36, 2019. doi:10.1007/s12532-018-0139-4.\n",
            "[2] Marc Doyle, Thomas F. Fuller, and John Newman. Modeling of galvanostatic charge and discharge of the lithium/polymer/insertion cell. Journal of the Electrochemical society, 140(6):1526–1533, 1993. doi:10.1149/1.2221597.\n",
            "[3] Charles R. Harris, K. Jarrod Millman, Stéfan J. van der Walt, Ralf Gommers, Pauli Virtanen, David Cournapeau, Eric Wieser, Julian Taylor, Sebastian Berg, Nathaniel J. Smith, and others. Array programming with NumPy. Nature, 585(7825):357–362, 2020. doi:10.1038/s41586-020-2649-2.\n",
            "[4] Scott G. Marquis, Valentin Sulzer, Robert Timms, Colin P. Please, and S. Jon Chapman. An asymptotic derivation of a single particle model with electrolyte. Journal of The Electrochemical Society, 166(15):A3693–A3706, 2019. doi:10.1149/2.0341915jes.\n",
            "[5] Valentin Sulzer, Scott G. Marquis, Robert Timms, Martin Robinson, and S. Jon Chapman. Python Battery Mathematical Modelling (PyBaMM). Journal of Open Research Software, 9(1):14, 2021. doi:10.5334/jors.309.\n",
            "\n"
          ]
        }
      ],
      "source": [
        "pybamm.print_citations()"
      ]
    }
  ],
  "metadata": {
    "kernelspec": {
      "display_name": "Python 3 (ipykernel)",
      "language": "python",
      "name": "python3"
    },
    "language_info": {
      "codemirror_mode": {
        "name": "ipython",
        "version": 3
      },
      "file_extension": ".py",
      "mimetype": "text/x-python",
      "name": "python",
      "nbconvert_exporter": "python",
      "pygments_lexer": "ipython3",
      "version": "3.11.6"
    },
    "colab": {
      "provenance": [],
      "include_colab_link": true
    }
  },
  "nbformat": 4,
  "nbformat_minor": 0
}